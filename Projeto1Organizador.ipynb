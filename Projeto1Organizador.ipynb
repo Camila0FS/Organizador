{
 "cells": [
  {
   "cell_type": "code",
   "execution_count": 2,
   "id": "9887985a",
   "metadata": {},
   "outputs": [],
   "source": [
    "import os"
   ]
  },
  {
   "cell_type": "code",
   "execution_count": 6,
   "id": "12af600b",
   "metadata": {},
   "outputs": [],
   "source": [
    "# Criando diretórios\n",
    "\n",
    "if os.path.exists('documentos') == False:\n",
    "    os.mkdir('documentos')\n",
    "    \n",
    "if os.path.exists('planilhas') == False:\n",
    "    os.mkdir('planilhas')"
   ]
  },
  {
   "cell_type": "code",
   "execution_count": null,
   "id": "d51e9a07",
   "metadata": {},
   "outputs": [],
   "source": [
    "mv "
   ]
  }
 ],
 "metadata": {
  "kernelspec": {
   "display_name": "Python 3 (ipykernel)",
   "language": "python",
   "name": "python3"
  },
  "language_info": {
   "codemirror_mode": {
    "name": "ipython",
    "version": 3
   },
   "file_extension": ".py",
   "mimetype": "text/x-python",
   "name": "python",
   "nbconvert_exporter": "python",
   "pygments_lexer": "ipython3",
   "version": "3.9.12"
  }
 },
 "nbformat": 4,
 "nbformat_minor": 5
}
